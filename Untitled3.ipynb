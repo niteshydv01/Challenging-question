{
  "cells": [
    {
      "cell_type": "markdown",
      "metadata": {
        "id": "view-in-github",
        "colab_type": "text"
      },
      "source": [
        "<a href=\"https://colab.research.google.com/github/niteshydv01/Challenging-question/blob/main/Untitled3.ipynb\" target=\"_parent\"><img src=\"https://colab.research.google.com/assets/colab-badge.svg\" alt=\"Open In Colab\"/></a>"
      ]
    },
    {
      "cell_type": "markdown",
      "source": [
        "TO SORT HETROGENUS LIST"
      ],
      "metadata": {
        "id": "N8HCySptrzFM"
      }
    },
    {
      "cell_type": "code",
      "execution_count": 10,
      "metadata": {
        "colab": {
          "base_uri": "https://localhost:8080/"
        },
        "id": "RBnEDw-ymdY7",
        "outputId": "e08afbed-2c4e-410f-bb31-152142adb41f"
      },
      "outputs": [
        {
          "output_type": "stream",
          "name": "stdout",
          "text": [
            "original list ['Ram', 1, 'Shyam', 2, 'Aman', 3]\n",
            "after sorting [1, 2, 3, 'Aman', 'Ram', 'Shyam']\n"
          ]
        }
      ],
      "source": [
        "L = [\"Ram\", 1, \"Shyam\", 2, \"Aman\", 3]\n",
        "print(\"original list\",L)\n",
        "integer=[n for n in L if isinstance(n,(int))]\n",
        "string=[n for n in L if isinstance(n,(str))]\n",
        "integer.sort()\n",
        "string.sort()\n",
        "print(\"after sorting\",integer+string)"
      ]
    }
  ],
  "metadata": {
    "colab": {
      "provenance": [],
      "authorship_tag": "ABX9TyO+l3QW5m0z2EmU4B9Ld+D/",
      "include_colab_link": true
    },
    "kernelspec": {
      "display_name": "Python 3",
      "name": "python3"
    },
    "language_info": {
      "name": "python"
    }
  },
  "nbformat": 4,
  "nbformat_minor": 0
}